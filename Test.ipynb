{
 "cells": [
  {
   "cell_type": "code",
   "execution_count": 6,
   "metadata": {},
   "outputs": [
    {
     "name": "stdout",
     "output_type": "stream",
     "text": [
      "返回值min_rect:\n",
      " ((1527.4998779296875, 1801.0), (46.99999237060547, 3.999999523162842), -0.0)\n",
      "返回值rect_points:\n",
      " [[1503.9999 1803.    ]\n",
      " [1503.9999 1799.    ]\n",
      " [1550.9999 1799.    ]\n",
      " [1550.9999 1803.    ]]\n"
     ]
    },
    {
     "name": "stderr",
     "output_type": "stream",
     "text": [
      "/var/folders/3h/v1vjdm0d3j75bqym346y_0s00000gn/T/ipykernel_44113/3239499924.py:20: DeprecationWarning: `np.int0` is a deprecated alias for `np.intp`.  (Deprecated NumPy 1.24)\n",
      "  rect_points = np.int0(rect_points)\n"
     ]
    },
    {
     "ename": "",
     "evalue": "",
     "output_type": "error",
     "traceback": [
      "\u001b[1;31m在当前单元格或上一个单元格中执行代码时 Kernel 崩溃。请查看单元格中的代码，以确定故障的可能原因。有关详细信息，请单击 <a href='https://aka.ms/vscodeJupyterKernelCrash'>此处</a>。有关更多详细信息，请查看 Jupyter <a href='command:jupyter.viewOutput'>log</a>。"
     ]
    }
   ],
   "source": [
    "import cv2\n",
    "import numpy as np\n",
    "# 1.导入图片\n",
    "img_src = cv2.imread(\"./data/WechatIMG787.png\")\n",
    "\n",
    "# 2.灰度化,二值化\n",
    "img_gray = cv2.cvtColor(img_src, cv2.COLOR_BGR2GRAY)\n",
    "ret, img_bin = cv2.threshold(img_gray, 127, 255, cv2.THRESH_BINARY)\n",
    "\n",
    "# 3.连通域分析\n",
    "contours, hierarchy = cv2.findContours(img_bin,\n",
    "                                                cv2.RETR_LIST,\n",
    "                                                cv2.CHAIN_APPROX_SIMPLE)\n",
    "\n",
    "# 4.获取最小外接矩形并打印\n",
    "min_rect = cv2.minAreaRect(contours[0])\n",
    "print(\"返回值min_rect:\\n\", min_rect)\n",
    "rect_points = cv2.boxPoints(min_rect)\n",
    "print(\"返回值rect_points:\\n\", rect_points)\n",
    "rect_points = np.int0(rect_points)\n",
    "\n",
    "# 5.绘制最小外接矩形\n",
    "img_result = img_src.copy()\n",
    "cv2.drawContours(img_result, [rect_points], 0, (255, 255, 255), 2)\n",
    "\n",
    "# 6.显示结果图片\n",
    "cv2.imshow(\"img_src\", img_src)\n",
    "cv2.imshow(\"img_result\", img_result)\n",
    "\n",
    "cv2.waitKey()\n",
    "cv2.destroyAllWindows()"
   ]
  }
 ],
 "metadata": {
  "kernelspec": {
   "display_name": "Python 3",
   "language": "python",
   "name": "python3"
  },
  "language_info": {
   "codemirror_mode": {
    "name": "ipython",
    "version": 3
   },
   "file_extension": ".py",
   "mimetype": "text/x-python",
   "name": "python",
   "nbconvert_exporter": "python",
   "pygments_lexer": "ipython3",
   "version": "3.9.7"
  },
  "orig_nbformat": 4
 },
 "nbformat": 4,
 "nbformat_minor": 2
}
